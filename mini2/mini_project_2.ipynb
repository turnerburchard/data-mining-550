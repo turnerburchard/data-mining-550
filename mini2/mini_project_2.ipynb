{
 "cells": [
  {
   "cell_type": "markdown",
   "id": "112de5b0dca94fac",
   "metadata": {
    "collapsed": false
   },
   "source": [
    "# Data Mining Project 2"
   ]
  },
  {
   "cell_type": "markdown",
   "id": "6df15814ab11d817",
   "metadata": {
    "collapsed": false
   },
   "source": [
    "https://datacatalog.cookcountyil.gov/Property-Taxation/Assessor-Archived-05-11-2022-Residential-Sales-Dat/5pge-nu6u/about_data"
   ]
  },
  {
   "cell_type": "markdown",
   "id": "585b5ce0ca13016a",
   "metadata": {
    "collapsed": false
   },
   "source": [
    "1. Data Acquisition"
   ]
  },
  {
   "cell_type": "code",
   "execution_count": 36,
   "id": "4ccbb167edc8a75f",
   "metadata": {
    "ExecuteTime": {
     "end_time": "2024-10-25T16:09:31.658396Z",
     "start_time": "2024-10-25T16:09:30.945321Z"
    },
    "collapsed": false
   },
   "outputs": [],
   "source": [
    "import requests\n",
    "import pandas as pd\n",
    "import numpy as np"
   ]
  },
  {
   "cell_type": "code",
   "execution_count": 37,
   "id": "a590900e72deb8af",
   "metadata": {
    "ExecuteTime": {
     "end_time": "2024-10-25T16:09:31.661336Z",
     "start_time": "2024-10-25T16:09:31.659503Z"
    },
    "collapsed": false
   },
   "outputs": [],
   "source": [
    "pd.set_option('display.max_columns', 100)\n",
    "pd.set_option('display.max_rows', 100)"
   ]
  },
  {
   "cell_type": "code",
   "execution_count": 38,
   "id": "d210cb1534047980",
   "metadata": {
    "ExecuteTime": {
     "end_time": "2024-10-25T16:41:24.918488Z",
     "start_time": "2024-10-25T16:41:23.951595Z"
    },
    "collapsed": false
   },
   "outputs": [],
   "source": [
    "# or mini2/cook_county_train_val.csv\n",
    "df = pd.read_csv(\"cook_county_train_val.csv\")"
   ]
  },
  {
   "cell_type": "code",
   "execution_count": 39,
   "id": "eeb1db3a15423a8a",
   "metadata": {
    "ExecuteTime": {
     "end_time": "2024-10-25T16:09:32.597993Z",
     "start_time": "2024-10-25T16:09:32.595350Z"
    },
    "collapsed": false
   },
   "outputs": [
    {
     "name": "stdout",
     "output_type": "stream",
     "text": [
      "204792\n"
     ]
    }
   ],
   "source": [
    "print(len(df))"
   ]
  },
  {
   "cell_type": "code",
   "execution_count": 40,
   "id": "9ca394cb82326fae",
   "metadata": {
    "ExecuteTime": {
     "end_time": "2024-10-25T16:09:32.610903Z",
     "start_time": "2024-10-25T16:09:32.598846Z"
    },
    "collapsed": false
   },
   "outputs": [
    {
     "name": "stdout",
     "output_type": "stream",
     "text": [
      "   Unnamed: 0             PIN  Property Class  Neighborhood Code  \\\n",
      "0           0  17294100610000             203                 50   \n",
      "1           1  13272240180000             202                120   \n",
      "2           2  25221150230000             202                210   \n",
      "3           3  10251130030000             203                220   \n",
      "4           4  31361040550000             202                120   \n",
      "\n",
      "   Land Square Feet  Town Code  Apartments  Wall Material  Roof Material  \\\n",
      "0            2500.0         76         0.0            2.0            1.0   \n",
      "1            3780.0         71         0.0            2.0            1.0   \n",
      "2            4375.0         70         0.0            2.0            1.0   \n",
      "3            4375.0         17         0.0            3.0            1.0   \n",
      "4            8400.0         32         0.0            3.0            1.0   \n",
      "\n",
      "   Basement  Basement Finish  Central Heating  Other Heating  Central Air  \\\n",
      "0       1.0              3.0              1.0            5.0          0.0   \n",
      "1       1.0              1.0              2.0            5.0          0.0   \n",
      "2       2.0              3.0              1.0            5.0          0.0   \n",
      "3       1.0              3.0              1.0            5.0          1.0   \n",
      "4       2.0              3.0              2.0            5.0          0.0   \n",
      "\n",
      "   Fireplaces  Attic Type  Attic Finish  Design Plan  Cathedral Ceiling  \\\n",
      "0         0.0         3.0             0          0.0                0.0   \n",
      "1         1.0         2.0             3          0.0                0.0   \n",
      "2         0.0         3.0             0          0.0                0.0   \n",
      "3         1.0         2.0             1          2.0                0.0   \n",
      "4         0.0         1.0             3          2.0                0.0   \n",
      "\n",
      "   Construction Quality  Site Desirability  Garage 1 Size  Garage 1 Material  \\\n",
      "0                   2.0                2.0            0.0                0.0   \n",
      "1                   2.0                2.0            2.0                1.0   \n",
      "2                   2.0                2.0            3.0                1.0   \n",
      "3                   2.0                2.0            3.0                1.0   \n",
      "4                   2.0                2.0            1.0                3.0   \n",
      "\n",
      "   Garage 1 Attachment  Garage 1 Area  Garage 2 Size  Garage 2 Material  \\\n",
      "0                  0.0            0.0            7.0                0.0   \n",
      "1                  2.0            2.0            7.0                0.0   \n",
      "2                  2.0            2.0            7.0                0.0   \n",
      "3                  2.0            2.0            7.0                0.0   \n",
      "4                  2.0            2.0            7.0                0.0   \n",
      "\n",
      "   Garage 2 Attachment  Garage 2 Area  Porch  Other Improvements  \\\n",
      "0                  0.0            0.0      1                 0.0   \n",
      "1                  0.0            0.0      1                 0.0   \n",
      "2                  0.0            0.0      3                 0.0   \n",
      "3                  0.0            0.0      3                 0.0   \n",
      "4                  0.0            0.0      3                 0.0   \n",
      "\n",
      "   Building Square Feet  Repair Condition  Multi Code  \\\n",
      "0                1280.0               2.0         2.0   \n",
      "1                 997.0               2.0         2.0   \n",
      "2                 907.0               2.0         2.0   \n",
      "3                1174.0               2.0         2.0   \n",
      "4                 949.0               2.0         2.0   \n",
      "\n",
      "   Number of Commercial Units  Estimate (Land)  Estimate (Building)  \\\n",
      "0                         0.0            50000               139500   \n",
      "1                         0.0            49140               177500   \n",
      "2                         0.0            26250                63470   \n",
      "3                         0.0            29530               194430   \n",
      "4                         0.0            23100                30160   \n",
      "\n",
      "     Deed No.  Sale Price  Longitude   Latitude  Census Tract  \\\n",
      "0  1525745095           1 -87.654264  41.840803      600600.0   \n",
      "1  1814316064      285000 -87.735966  41.933016      200100.0   \n",
      "2  1604916034       22000 -87.616496  41.686738      491400.0   \n",
      "3  1320441110      225000 -87.701482  42.019937      810301.0   \n",
      "4  1616242072       22600 -87.682236  41.476430      830300.0   \n",
      "\n",
      "   Multi Property Indicator Modeling Group  Age  Use  O'Hare Noise  \\\n",
      "0                         0             SF  132    1           0.0   \n",
      "1                         0             SF   96    1           0.0   \n",
      "2                         0             SF  112    1           0.0   \n",
      "3                         0             SF   63    1           0.0   \n",
      "4                         0             SF   63    1           0.0   \n",
      "\n",
      "   Floodplain  Road Proximity  Sale Year  Sale Quarter  Sale Half-Year  \\\n",
      "0         0.0             0.0       2015            75              38   \n",
      "1         0.0             0.0       2018            86              43   \n",
      "2         0.0             0.0       2016            77              39   \n",
      "3         0.0             0.0       2013            67              34   \n",
      "4         0.0             1.0       2016            78              39   \n",
      "\n",
      "   Sale Quarter of Year  Sale Month of Year  Sale Half of Year  \\\n",
      "0                     3                   9                  2   \n",
      "1                     2                   5                  1   \n",
      "2                     1                   2                  1   \n",
      "3                     3                   7                  2   \n",
      "4                     2                   6                  1   \n",
      "\n",
      "   Most Recent Sale  Age Decade  Pure Market Filter  Garage Indicator  \\\n",
      "0               1.0        13.2                   0               0.0   \n",
      "1               1.0         9.6                   1               1.0   \n",
      "2               0.0        11.2                   1               1.0   \n",
      "3               1.0         6.3                   1               1.0   \n",
      "4               0.0         6.3                   1               1.0   \n",
      "\n",
      "   Neigborhood Code (mapping)  Town and Neighborhood  \\\n",
      "0                          50                   7650   \n",
      "1                         120                  71120   \n",
      "2                         210                  70210   \n",
      "3                         220                  17220   \n",
      "4                         120                  32120   \n",
      "\n",
      "                                         Description  Lot Size  \n",
      "0  This property, sold on 09/14/2015, is a one-st...    2500.0  \n",
      "1  This property, sold on 05/23/2018, is a one-st...    3780.0  \n",
      "2  This property, sold on 02/18/2016, is a one-st...    4375.0  \n",
      "3  This property, sold on 07/23/2013, is a one-st...    4375.0  \n",
      "4  This property, sold on 06/10/2016, is a one-st...    8400.0  \n"
     ]
    }
   ],
   "source": [
    "print(df.head())"
   ]
  },
  {
   "cell_type": "markdown",
   "id": "bd1e0cf656224f98",
   "metadata": {
    "collapsed": false
   },
   "source": [
    "2. Data Cleaning"
   ]
  },
  {
   "cell_type": "code",
   "execution_count": 41,
   "id": "2e8e60e1625eddc9",
   "metadata": {
    "ExecuteTime": {
     "end_time": "2024-10-25T16:09:35.688739Z",
     "start_time": "2024-10-25T16:09:35.661044Z"
    },
    "collapsed": false
   },
   "outputs": [
    {
     "name": "stdout",
     "output_type": "stream",
     "text": [
      "Unnamed: 0                    204792\n",
      "PIN                           204792\n",
      "Property Class                204792\n",
      "Neighborhood Code             204792\n",
      "Land Square Feet              204792\n",
      "Town Code                     204792\n",
      "Apartments                    204792\n",
      "Wall Material                 204792\n",
      "Roof Material                 204792\n",
      "Basement                      204792\n",
      "Basement Finish               204792\n",
      "Central Heating               204792\n",
      "Other Heating                 204792\n",
      "Central Air                   204792\n",
      "Fireplaces                    204792\n",
      "Attic Type                    204792\n",
      "Attic Finish                  204792\n",
      "Design Plan                   204792\n",
      "Cathedral Ceiling             204792\n",
      "Construction Quality          204792\n",
      "Site Desirability             204792\n",
      "Garage 1 Size                 204792\n",
      "Garage 1 Material             204792\n",
      "Garage 1 Attachment           204792\n",
      "Garage 1 Area                 204792\n",
      "Garage 2 Size                 204792\n",
      "Garage 2 Material             204792\n",
      "Garage 2 Attachment           204792\n",
      "Garage 2 Area                 204792\n",
      "Porch                         204792\n",
      "Other Improvements            204792\n",
      "Building Square Feet          204792\n",
      "Repair Condition              204792\n",
      "Multi Code                    204792\n",
      "Number of Commercial Units    204792\n",
      "Estimate (Land)               204792\n",
      "Estimate (Building)           204792\n",
      "Deed No.                      204792\n",
      "Sale Price                    204792\n",
      "Longitude                     204792\n",
      "Latitude                      204792\n",
      "Census Tract                  204792\n",
      "Multi Property Indicator      204792\n",
      "Modeling Group                204792\n",
      "Age                           204792\n",
      "Use                           204792\n",
      "O'Hare Noise                  204792\n",
      "Floodplain                    204792\n",
      "Road Proximity                204792\n",
      "Sale Year                     204792\n",
      "Sale Quarter                  204792\n",
      "Sale Half-Year                204792\n",
      "Sale Quarter of Year          204792\n",
      "Sale Month of Year            204792\n",
      "Sale Half of Year             204792\n",
      "Most Recent Sale              204792\n",
      "Age Decade                    204792\n",
      "Pure Market Filter            204792\n",
      "Garage Indicator              204792\n",
      "Neigborhood Code (mapping)    204792\n",
      "Town and Neighborhood         204792\n",
      "Description                   204792\n",
      "Lot Size                      204792\n",
      "dtype: int64\n"
     ]
    }
   ],
   "source": [
    "# no missing values\n",
    "count = df.count()\n",
    "print(count)"
   ]
  },
  {
   "cell_type": "code",
   "execution_count": 42,
   "id": "9ebc740c32da2477",
   "metadata": {
    "ExecuteTime": {
     "end_time": "2024-10-25T16:09:37.440041Z",
     "start_time": "2024-10-25T16:09:37.413911Z"
    },
    "collapsed": false
   },
   "outputs": [
    {
     "name": "stdout",
     "output_type": "stream",
     "text": [
      "35546\n"
     ]
    }
   ],
   "source": [
    "# clean out sale prices equal to 1 or 0\n",
    "print(len(df[df['Sale Price'] < 2]))\n",
    "df = df[df['Sale Price'] > 1]"
   ]
  },
  {
   "cell_type": "code",
   "execution_count": 43,
   "id": "c9ff670ca0393b5c",
   "metadata": {
    "ExecuteTime": {
     "end_time": "2024-10-25T16:45:49.685954Z",
     "start_time": "2024-10-25T16:45:49.667465Z"
    },
    "collapsed": false
   },
   "outputs": [],
   "source": [
    "# drop non numeric columns\n",
    "# could drop Property Class, Town Code, Neighborhood code, Census Tract, Town and Neighborhood\n",
    "df = df.drop(columns=['PIN', 'Deed No.', 'Modeling Group', 'Description'])"
   ]
  },
  {
   "cell_type": "code",
   "execution_count": 44,
   "id": "7505256d",
   "metadata": {},
   "outputs": [],
   "source": [
    "# drop empty / mostly empty columns\n",
    "# could drop \"Multi Property Indicator\" as well\n",
    "df = df.drop(columns=['Apartments', 'Garage 2 Material', 'Garage 2 Attachment', 'Garage 2 Area', 'Number of Commercial Units', 'Use'])"
   ]
  },
  {
   "cell_type": "code",
   "execution_count": 45,
   "id": "8661afc2",
   "metadata": {},
   "outputs": [],
   "source": [
    "# remove outliers with Isolation Forest\n",
    "from sklearn.ensemble import IsolationForest\n",
    "iso = IsolationForest(contamination=0.05)\n",
    "yhat = iso.fit_predict(df[['Sale Price']])\n",
    "mask = yhat != -1\n",
    "df = df[mask]"
   ]
  },
  {
   "cell_type": "markdown",
   "id": "391640ce52d17dc7",
   "metadata": {
    "collapsed": false
   },
   "source": [
    "3. Data Visualization"
   ]
  },
  {
   "cell_type": "code",
   "execution_count": 46,
   "id": "c7abe0861164e5d9",
   "metadata": {
    "ExecuteTime": {
     "end_time": "2024-10-18T15:37:56.634187Z",
     "start_time": "2024-10-18T15:37:56.314676Z"
    },
    "collapsed": false
   },
   "outputs": [],
   "source": [
    "import matplotlib.pyplot as plt"
   ]
  },
  {
   "cell_type": "code",
   "execution_count": 47,
   "id": "4cd3c8268fa9a11e",
   "metadata": {
    "ExecuteTime": {
     "end_time": "2024-10-18T15:38:35.859216Z",
     "start_time": "2024-10-18T15:38:35.623358Z"
    },
    "collapsed": false
   },
   "outputs": [
    {
     "data": {
      "text/plain": [
       "<matplotlib.collections.PathCollection at 0x1765feda7f0>"
      ]
     },
     "execution_count": 47,
     "metadata": {},
     "output_type": "execute_result"
    },
    {
     "data": {
      "image/png": "[encoded data removed]",
      "text/plain": [
       "<Figure size 432x288 with 1 Axes>"
      ]
     },
     "metadata": {
      "needs_background": "light"
     },
     "output_type": "display_data"
    }
   ],
   "source": [
    "# scatter plot of building square feet vs sale price\n",
    "plt.scatter(np.log(df['Building Square Feet']), np.log(df['Sale Price']))\n"
   ]
  },
  {
   "cell_type": "markdown",
   "id": "54b3e7fe8887d443",
   "metadata": {
    "collapsed": false
   },
   "source": [
    "4. Hypothesis Development"
   ]
  },
  {
   "cell_type": "code",
   "execution_count": null,
   "id": "abe2c859294abe3a",
   "metadata": {
    "collapsed": false
   },
   "outputs": [],
   "source": []
  },
  {
   "cell_type": "code",
   "execution_count": null,
   "id": "b111399946c124cd",
   "metadata": {
    "collapsed": false
   },
   "outputs": [],
   "source": []
  },
  {
   "cell_type": "markdown",
   "id": "8d2d8f1688f01bc8",
   "metadata": {
    "collapsed": false
   },
   "source": []
  },
  {
   "cell_type": "markdown",
   "id": "cf29848e388ecdf5",
   "metadata": {
    "collapsed": false
   },
   "source": [
    "5. Model Development"
   ]
  },
  {
   "cell_type": "code",
   "execution_count": null,
   "id": "36fdee80",
   "metadata": {},
   "outputs": [],
   "source": [
    "from sklearn.feature_selection import SelectKBest, f_regression\n",
    "from sklearn.model_selection import cross_val_score\n",
    "from sklearn.decomposition import PCA\n",
    "from sklearn.preprocessing import PolynomialFeatures, StandardScaler\n",
    "from sklearn.linear_model import LassoCV, RidgeCV, LinearRegression\n",
    "from scipy.interpolate import CubicSpline"
   ]
  },
  {
   "cell_type": "code",
   "execution_count": 49,
   "id": "3782f0267a0f8ae2",
   "metadata": {
    "ExecuteTime": {
     "end_time": "2024-10-25T16:36:10.081448Z",
     "start_time": "2024-10-25T16:36:10.079419Z"
    },
    "collapsed": false
   },
   "outputs": [],
   "source": [
    "# 5-fold Cross Validation\n",
    "def cross_validate(model, X, y, n_folds=5):\n",
    "    scores = cross_val_score(model, X, y, cv=n_folds, scoring='neg_mean_squared_error')\n",
    "    return int(np.sqrt((-np.mean(scores))))"
   ]
  },
  {
   "cell_type": "code",
   "execution_count": 50,
   "id": "9e8e2820e591b3",
   "metadata": {
    "ExecuteTime": {
     "end_time": "2024-10-25T16:36:33.430319Z",
     "start_time": "2024-10-25T16:36:33.395033Z"
    },
    "collapsed": false
   },
   "outputs": [
    {
     "name": "stdout",
     "output_type": "stream",
     "text": [
      "Simple Regression Error: \n",
      "150488\n"
     ]
    }
   ],
   "source": [
    "# Simple Regression\n",
    "def simple_regression(X, y):\n",
    "    model = LinearRegression()\n",
    "    model.fit(X, y)\n",
    "    return model\n",
    "\n",
    "model = simple_regression(df[['Estimate (Land)']], df['Sale Price'])\n",
    "\n",
    "print(\"Simple Regression Error: \")\n",
    "print(cross_validate(model, df[['Estimate (Land)']], df['Sale Price']))"
   ]
  },
  {
   "cell_type": "code",
   "execution_count": 51,
   "id": "995b73d327afcb7c",
   "metadata": {
    "ExecuteTime": {
     "end_time": "2024-10-25T16:37:27.322371Z",
     "start_time": "2024-10-25T16:37:26.941487Z"
    },
    "collapsed": false
   },
   "outputs": [
    {
     "name": "stdout",
     "output_type": "stream",
     "text": [
      "Multiple Regression Error: \n",
      "94940\n"
     ]
    }
   ],
   "source": [
    "# Multiple Regression with all features\n",
    "def multiple_regression(X, y):\n",
    "    model = LinearRegression()\n",
    "    model.fit(X, y)\n",
    "    return model\n",
    "\n",
    "\n",
    "multiple_model = multiple_regression(df.drop(columns=['Sale Price']), df['Sale Price'])\n",
    "\n",
    "print(\"Multiple Regression Error: \")\n",
    "print(cross_validate(multiple_model, df.drop(columns=['Sale Price']), df['Sale Price']))\n"
   ]
  },
  {
   "cell_type": "code",
   "execution_count": 52,
   "id": "fc0ab0ecc81f8232",
   "metadata": {
    "ExecuteTime": {
     "end_time": "2024-10-18T15:08:17.571572Z",
     "start_time": "2024-10-18T15:08:17.567405Z"
    },
    "collapsed": false
   },
   "outputs": [
    {
     "name": "stdout",
     "output_type": "stream",
     "text": [
      "Subset Regression Error: \n",
      "99673\n"
     ]
    }
   ],
   "source": [
    "# Subset Selection\n",
    "def subset_selection(X, y, k):\n",
    "    selector = SelectKBest(score_func=f_regression, k=k)\n",
    "    return selector.fit_transform(X, y)\n",
    "\n",
    "\n",
    "# Multiple Regression with subset of features\n",
    "k = 15 # Best from tuning\n",
    "X = subset_selection(df.drop(columns=['Sale Price']), df['Sale Price'], k)\n",
    "subset_model = multiple_regression(X, df['Sale Price'])\n",
    "\n",
    "print(\"Subset Regression Error: \")\n",
    "print(cross_validate(subset_model, X, df['Sale Price']))"
   ]
  },
  {
   "cell_type": "code",
   "execution_count": 53,
   "id": "ab6ee4f33dfb81bc",
   "metadata": {
    "ExecuteTime": {
     "end_time": "2024-10-18T15:08:21.576874Z",
     "start_time": "2024-10-18T15:08:21.573037Z"
    },
    "collapsed": false
   },
   "outputs": [
    {
     "name": "stdout",
     "output_type": "stream",
     "text": [
      "PCA Regression Error: \n",
      "105551\n"
     ]
    }
   ],
   "source": [
    "# Regularization\n",
    "def pca(X, y, k):\n",
    "    model = PCA(n_components=k)\n",
    "    model = model.fit_transform(X, y)\n",
    "\n",
    "    return model\n",
    "\n",
    "k = 15 # Best from tuning\n",
    "X = pca(df.drop(columns=['Sale Price']), df['Sale Price'], k)\n",
    "pca_model = multiple_regression(X, df['Sale Price'])\n",
    "\n",
    "print(\"PCA Regression Error: \")\n",
    "print(cross_validate(pca_model, X, df['Sale Price']))"
   ]
  },
  {
   "cell_type": "code",
   "execution_count": 54,
   "id": "cbf1038ac4727ba8",
   "metadata": {
    "ExecuteTime": {
     "end_time": "2024-10-18T15:08:31.002373Z",
     "start_time": "2024-10-18T15:08:30.998680Z"
    },
    "collapsed": false
   },
   "outputs": [
    {
     "name": "stdout",
     "output_type": "stream",
     "text": [
      "Fitting polynomial regression model with degree: 1\n",
      "Polynomial Regression Error: \n",
      "94940\n"
     ]
    }
   ],
   "source": [
    "# Polynomial regression\n",
    "def polynomial_regression(X, y, degree):\n",
    "    print(\"Fitting polynomial regression model with degree:\", degree)\n",
    "    poly = PolynomialFeatures(degree=degree)\n",
    "    X_poly = poly.fit_transform(X)\n",
    "    model = LinearRegression()\n",
    "    model.fit(X_poly, y)\n",
    "    return model\n",
    "\n",
    "\n",
    "X = df.drop(columns=['Sale Price'])\n",
    "y = df['Sale Price']\n",
    "degree = 1  # Best from tuning\n",
    "poly_model = polynomial_regression(X, y, degree)\n",
    "\n",
    "print(\"Polynomial Regression Error: \")\n",
    "print(cross_validate(poly_model, X, y))"
   ]
  },
  {
   "cell_type": "code",
   "execution_count": 55,
   "id": "cb87df0b3ba26d89",
   "metadata": {
    "ExecuteTime": {
     "end_time": "2024-10-18T15:08:37.781456Z",
     "start_time": "2024-10-18T15:08:37.777526Z"
    },
    "collapsed": false
   },
   "outputs": [
    {
     "name": "stdout",
     "output_type": "stream",
     "text": [
      "Spline Regression Error: \n",
      "208929293484385856\n"
     ]
    }
   ],
   "source": [
    "# Scipy cubic spline interpolation\n",
    "class CubicSplineRegressor:\n",
    "    def __init__(self):\n",
    "        self.models = []\n",
    "\n",
    "    def fit(self, X, y):\n",
    "        self.models = []\n",
    "        for column in X.columns:\n",
    "            X_sorted, y_sorted = zip(*sorted(zip(X[column], y)))\n",
    "            X_sorted, y_sorted = np.unique(X_sorted, return_index=True)\n",
    "            y_sorted = np.array(y)[y_sorted]\n",
    "\n",
    "            model = CubicSpline(X_sorted, y_sorted, bc_type='natural')  \n",
    "            self.models.append(model)\n",
    "        return self\n",
    "\n",
    "    def predict(self, X):\n",
    "        y_pred = np.zeros(len(X))\n",
    "        for i, column in enumerate(X.columns):\n",
    "            spline_model = self.models[i]\n",
    "            y_pred += spline_model(X[column])\n",
    "        return y_pred\n",
    "    \n",
    "    \n",
    "    def get_params(self, deep=True):\n",
    "        return {}\n",
    "\n",
    "    def set_params(self, **params):\n",
    "        for key, value in params.items():\n",
    "            setattr(self, key, value)\n",
    "        return self\n",
    "    \n",
    "\n",
    "X = df.drop(columns=['Sale Price'])\n",
    "y = df['Sale Price']\n",
    "spline_model = CubicSplineRegressor()\n",
    "\n",
    "print(\"Spline Regression Error: \")\n",
    "print(cross_validate(spline_model, X, y))"
   ]
  },
  {
   "cell_type": "code",
   "execution_count": 56,
   "id": "de4a9d213a07c5cb",
   "metadata": {
    "ExecuteTime": {
     "end_time": "2024-10-18T15:08:43.166416Z",
     "start_time": "2024-10-18T15:08:43.161628Z"
    },
    "collapsed": false
   },
   "outputs": [
    {
     "name": "stdout",
     "output_type": "stream",
     "text": [
      "Lasso Regression Error: \n",
      "0.6128264127145948\n"
     ]
    }
   ],
   "source": [
    "# Lasso Regularization\n",
    "def lassocv_regularization(X, y):\n",
    "    lasso_cv = LassoCV(cv=5).fit(X, y)\n",
    "    return lasso_cv\n",
    "\n",
    "X = df.drop(columns=['Sale Price'])\n",
    "y = df['Sale Price']\n",
    "\n",
    "lasscv_model = lassocv_regularization(X, y)\n",
    "\n",
    "print(\"Lasso Regression Error: \")\n",
    "print(lasscv_model.score(X, y)) # this uses the R^2 score"
   ]
  },
  {
   "cell_type": "code",
   "execution_count": 57,
   "id": "d39b8d29d348e1c9",
   "metadata": {
    "ExecuteTime": {
     "end_time": "2024-10-25T16:35:39.654471Z",
     "start_time": "2024-10-25T16:35:39.652634Z"
    },
    "collapsed": false
   },
   "outputs": [
    {
     "name": "stdout",
     "output_type": "stream",
     "text": [
      "Ridge Regression Error: \n",
      "0.715091908076007\n"
     ]
    }
   ],
   "source": [
    "# Ridge Regularization\n",
    "def ridgecv_regularization(X, y):\n",
    "    ridgecv_model = RidgeCV(cv=5).fit(X, y)\n",
    "    return ridgecv_model\n",
    "\n",
    "scaler = StandardScaler()\n",
    "X_scaled = scaler.fit_transform(df.drop(columns=['Sale Price']))\n",
    "y = df['Sale Price']\n",
    "\n",
    "ridgecv_model = ridgecv_regularization(X_scaled, y)\n",
    "\n",
    "print(\"Ridge Regression Error: \")\n",
    "print(ridgecv_model.score(X_scaled, y)) # this is the R^2 score"
   ]
  },
  {
   "cell_type": "code",
   "execution_count": null,
   "id": "52eed82796c8f0f8",
   "metadata": {
    "collapsed": false
   },
   "outputs": [],
   "source": []
  }
 ],
 "metadata": {
  "kernelspec": {
   "display_name": "Python 3",
   "language": "python",
   "name": "python3"
  },
  "language_info": {
   "codemirror_mode": {
    "name": "ipython",
    "version": 3
   },
   "file_extension": ".py",
   "mimetype": "text/x-python",
   "name": "python",
   "nbconvert_exporter": "python",
   "pygments_lexer": "ipython3",
   "version": "3.9.0"
  }
 },
 "nbformat": 4,
 "nbformat_minor": 5
}
